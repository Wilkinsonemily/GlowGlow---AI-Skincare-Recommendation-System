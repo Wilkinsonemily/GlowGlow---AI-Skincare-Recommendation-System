{
 "cells": [
  {
   "cell_type": "code",
   "execution_count": 1,
   "metadata": {},
   "outputs": [],
   "source": [
    "import os\n",
    "import torch\n",
    "import torch.nn as nn\n",
    "import torch.optim as optim\n",
    "from torchvision import models, transforms\n",
    "from torch.utils.data import Dataset, DataLoader\n",
    "from PIL import Image\n",
    "import numpy as np\n",
    "import matplotlib.pyplot as plt\n",
    "import seaborn as sns\n",
    "from sklearn.preprocessing import LabelEncoder\n",
    "from sklearn.metrics import classification_report, confusion_matrix\n",
    "from sklearn.model_selection import train_test_split\n",
    "import glob as gb\n",
    "from tqdm import tqdm\n",
    "import itertools"
   ]
  },
  {
   "cell_type": "code",
   "execution_count": 3,
   "metadata": {},
   "outputs": [],
   "source": [
    "#Hyperparameters\n",
    "resize = 224\n",
    "learning_rate = 1e-4\n",
    "EPOCHS = 50\n",
    "BS = 64\n",
    "categories = ['acne'  , 'dry' , 'oil']\n"
   ]
  },
  {
   "cell_type": "code",
   "execution_count": 4,
   "metadata": {},
   "outputs": [],
   "source": [
    "base_dir = './skin_dataset'\n",
    "TRAIN_DIR = os.path.join(base_dir, 'train')\n",
    "TEST_DIR = os.path.join(base_dir, 'test')\n",
    "VALID_DIR = os.path.join(base_dir, 'valid')"
   ]
  },
  {
   "cell_type": "code",
   "execution_count": 5,
   "metadata": {},
   "outputs": [],
   "source": [
    "# Check if directories exist\n",
    "assert os.path.exists(TRAIN_DIR), 'Could not find ' + TRAIN_DIR\n",
    "assert os.path.exists(TEST_DIR), 'Could not find ' + TEST_DIR\n",
    "assert os.path.exists(VALID_DIR), 'Could not find ' + VALID_DIR"
   ]
  },
  {
   "cell_type": "code",
   "execution_count": 6,
   "metadata": {},
   "outputs": [
    {
     "name": "stderr",
     "output_type": "stream",
     "text": [
      "100%|██████████| 4/4 [00:00<00:00, 731.77it/s]\n"
     ]
    }
   ],
   "source": [
    "categories = []\n",
    "class_count = []\n",
    "train_exm = 0\n",
    "\n",
    "for f in tqdm(os.listdir(TRAIN_DIR)):\n",
    "    folder_path = os.path.join(TRAIN_DIR, f)\n",
    "    if os.path.isdir(folder_path):\n",
    "        files = gb.glob(pathname=str(TRAIN_DIR + '/' + f + '/*'))\n",
    "        categories.append(f)\n",
    "        class_count.append(len(files))\n",
    "        train_exm += len(files)"
   ]
  },
  {
   "cell_type": "code",
   "execution_count": 7,
   "metadata": {},
   "outputs": [
    {
     "name": "stdout",
     "output_type": "stream",
     "text": [
      "Categories: ['dry', 'acne', 'oil']\n",
      "Class count: [705, 702, 706]\n"
     ]
    }
   ],
   "source": [
    "print(f\"Categories: {categories}\")\n",
    "print(f\"Class count: {class_count}\")"
   ]
  },
  {
   "cell_type": "code",
   "execution_count": 8,
   "metadata": {},
   "outputs": [
    {
     "data": {
      "text/plain": [
       "([0, 1, 2], [Text(0, 0, 'dry'), Text(1, 0, 'acne'), Text(2, 0, 'oil')])"
      ]
     },
     "execution_count": 8,
     "metadata": {},
     "output_type": "execute_result"
    },
    {
     "data": {
      "image/png": "[encoded data removed]",
      "text/plain": [
       "<Figure size 1000x600 with 1 Axes>"
      ]
     },
     "metadata": {},
     "output_type": "display_data"
    }
   ],
   "source": [
    "sns.set_style('whitegrid')\n",
    "plt.figure(figsize=(10, 6))\n",
    "ax = sns.barplot(x=categories, y=class_count, hue=categories, palette='flare', dodge=False)\n",
    "# Add labels to the bars\n",
    "for container in ax.containers:\n",
    "    ax.bar_label(container)\n",
    "\n",
    "plt.title('Distribution of Train Data')\n",
    "plt.xticks(rotation=45)"
   ]
  },
  {
   "cell_type": "code",
   "execution_count": 148,
   "metadata": {},
   "outputs": [
    {
     "name": "stdout",
     "output_type": "stream",
     "text": [
      "Total number of examples in the dataset: 2113\n"
     ]
    }
   ],
   "source": [
    "if ax.legend_ is not None:\n",
    "    ax.legend_.remove()\n",
    "\n",
    "plt.show()\n",
    "print(f\"Total number of examples in the dataset: {train_exm}\")"
   ]
  },
  {
   "cell_type": "code",
   "execution_count": 149,
   "metadata": {},
   "outputs": [
    {
     "name": "stderr",
     "output_type": "stream",
     "text": [
      "  0%|          | 0/705 [00:00<?, ?it/s]"
     ]
    },
    {
     "name": "stderr",
     "output_type": "stream",
     "text": [
      "100%|██████████| 705/705 [00:03<00:00, 178.42it/s]\n",
      "100%|██████████| 702/702 [00:03<00:00, 193.92it/s]\n",
      "100%|██████████| 706/706 [00:03<00:00, 222.63it/s]\n"
     ]
    }
   ],
   "source": [
    "data = []\n",
    "labels = []\n",
    "\n",
    "for c in categories:\n",
    "    path = os.path.join(TRAIN_DIR, c)\n",
    "    for img in tqdm(os.listdir(path)):\n",
    "        img_path = os.path.join(path, img)\n",
    "        img = Image.open(img_path).convert(\"RGB\")\n",
    "        img = img.resize((resize, resize))\n",
    "        img = np.array(img)\n",
    "        data.append(img)\n",
    "        labels.append(c)\n",
    "\n",
    "data = np.array(data, dtype=\"float32\")\n",
    "labels = np.array(labels)"
   ]
  },
  {
   "cell_type": "code",
   "execution_count": 150,
   "metadata": {},
   "outputs": [],
   "source": [
    "lb = LabelEncoder()\n",
    "labels = lb.fit_transform(labels)"
   ]
  },
  {
   "cell_type": "code",
   "execution_count": 151,
   "metadata": {},
   "outputs": [],
   "source": [
    "torch.manual_seed(107)\n",
    "np.random.seed(107)"
   ]
  },
  {
   "cell_type": "code",
   "execution_count": 152,
   "metadata": {},
   "outputs": [],
   "source": [
    "# Transformations for training and validation datasets (Augmentation and Normalization)\n",
    "transform_train = transforms.Compose([\n",
    "    transforms.Resize((resize, resize)),\n",
    "    transforms.RandomHorizontalFlip(),\n",
    "    transforms.RandomRotation(30),\n",
    "    transforms.ColorJitter(brightness=0.2, contrast=0.2, saturation=0.2, hue=0.2),\n",
    "    transforms.RandomAffine(15, shear=10),\n",
    "    transforms.ToTensor(),\n",
    "    transforms.Normalize(mean=[0.485, 0.456, 0.406], std=[0.229, 0.224, 0.225]),\n",
    "\n",
    "])\n",
    "\n",
    "transform_valid = transforms.Compose([\n",
    "    transforms.Resize((resize, resize)),\n",
    "    transforms.ToTensor(),\n",
    "    transforms.Normalize(mean=[0.485, 0.456, 0.406], std=[0.229, 0.224, 0.225])\n",
    "\n",
    "])"
   ]
  },
  {
   "cell_type": "code",
   "execution_count": 9,
   "metadata": {},
   "outputs": [],
   "source": [
    "class SkinDataset(Dataset):\n",
    "    def __init__(self, data_dir, transform=None):\n",
    "        self.data_dir = data_dir\n",
    "        self.transform = transform\n",
    "        self.image_paths = []\n",
    "        self.labels = []\n",
    "\n",
    "        for idx, category in enumerate(os.listdir(data_dir)):\n",
    "            category_path = os.path.join(data_dir, category)\n",
    "            if os.path.isdir(category_path):\n",
    "                for img_path in gb.glob(pathname=category_path + '/*'):\n",
    "                    self.image_paths.append(img_path)\n",
    "                    self.labels.append(idx)\n",
    "\n",
    "    def __len__(self):\n",
    "        return len(self.image_paths)\n",
    "\n",
    "    def __getitem__(self, idx):\n",
    "        image = Image.open(self.image_paths[idx]).convert('RGB')\n",
    "        label = self.labels[idx]\n",
    "        if self.transform:\n",
    "            image = self.transform(image)\n",
    "        return image, label"
   ]
  },
  {
   "cell_type": "code",
   "execution_count": 154,
   "metadata": {},
   "outputs": [],
   "source": [
    "# Split data into training, validation, and testing\n",
    "train_dataset = CustomDataset(TRAIN_DIR, categories, transform=transform_train)\n",
    "valid_dataset = CustomDataset(VALID_DIR, categories, transform=transform_valid)\n",
    "test_dataset = CustomDataset(TEST_DIR, categories, transform=transform_valid)\n",
    "\n",
    "train_loader = DataLoader(train_dataset, batch_size=BS, shuffle=True)\n",
    "valid_loader = DataLoader(valid_dataset, batch_size=BS, shuffle=False)\n",
    "test_loader = DataLoader(test_dataset, batch_size=BS, shuffle=False)"
   ]
  },
  {
   "cell_type": "code",
   "execution_count": 155,
   "metadata": {},
   "outputs": [],
   "source": [
    "# Load pre-trained VGG16 model\n",
    "model = models.vgg16(weights=models.VGG16_Weights.IMAGENET1K_V1)\n",
    "\n",
    "for param in model.parameters():\n",
    "    param.requires_grad = False"
   ]
  },
  {
   "cell_type": "code",
   "execution_count": 156,
   "metadata": {},
   "outputs": [],
   "source": [
    "model.classifier[6] = nn.Linear(in_features=model.classifier[6].in_features, out_features=len(categories))\n",
    "\n",
    "device = torch.device('cuda' if torch.cuda.is_available() else 'cpu')\n",
    "model = model.to(device)"
   ]
  },
  {
   "cell_type": "code",
   "execution_count": 157,
   "metadata": {},
   "outputs": [],
   "source": [
    "model.classifier[5] = nn.Dropout(0.6)  \n",
    "model.classifier[3] = nn.Dropout(0.6) "
   ]
  },
  {
   "cell_type": "code",
   "execution_count": 158,
   "metadata": {},
   "outputs": [],
   "source": [
    "for param in model.features.parameters():\n",
    "    param.requires_grad = False"
   ]
  },
  {
   "cell_type": "code",
   "execution_count": 159,
   "metadata": {},
   "outputs": [
    {
     "data": {
      "text/plain": [
       "VGG(\n",
       "  (features): Sequential(\n",
       "    (0): Conv2d(3, 64, kernel_size=(3, 3), stride=(1, 1), padding=(1, 1))\n",
       "    (1): ReLU(inplace=True)\n",
       "    (2): Conv2d(64, 64, kernel_size=(3, 3), stride=(1, 1), padding=(1, 1))\n",
       "    (3): ReLU(inplace=True)\n",
       "    (4): MaxPool2d(kernel_size=2, stride=2, padding=0, dilation=1, ceil_mode=False)\n",
       "    (5): Conv2d(64, 128, kernel_size=(3, 3), stride=(1, 1), padding=(1, 1))\n",
       "    (6): ReLU(inplace=True)\n",
       "    (7): Conv2d(128, 128, kernel_size=(3, 3), stride=(1, 1), padding=(1, 1))\n",
       "    (8): ReLU(inplace=True)\n",
       "    (9): MaxPool2d(kernel_size=2, stride=2, padding=0, dilation=1, ceil_mode=False)\n",
       "    (10): Conv2d(128, 256, kernel_size=(3, 3), stride=(1, 1), padding=(1, 1))\n",
       "    (11): ReLU(inplace=True)\n",
       "    (12): Conv2d(256, 256, kernel_size=(3, 3), stride=(1, 1), padding=(1, 1))\n",
       "    (13): ReLU(inplace=True)\n",
       "    (14): Conv2d(256, 256, kernel_size=(3, 3), stride=(1, 1), padding=(1, 1))\n",
       "    (15): ReLU(inplace=True)\n",
       "    (16): MaxPool2d(kernel_size=2, stride=2, padding=0, dilation=1, ceil_mode=False)\n",
       "    (17): Conv2d(256, 512, kernel_size=(3, 3), stride=(1, 1), padding=(1, 1))\n",
       "    (18): ReLU(inplace=True)\n",
       "    (19): Conv2d(512, 512, kernel_size=(3, 3), stride=(1, 1), padding=(1, 1))\n",
       "    (20): ReLU(inplace=True)\n",
       "    (21): Conv2d(512, 512, kernel_size=(3, 3), stride=(1, 1), padding=(1, 1))\n",
       "    (22): ReLU(inplace=True)\n",
       "    (23): MaxPool2d(kernel_size=2, stride=2, padding=0, dilation=1, ceil_mode=False)\n",
       "    (24): Conv2d(512, 512, kernel_size=(3, 3), stride=(1, 1), padding=(1, 1))\n",
       "    (25): ReLU(inplace=True)\n",
       "    (26): Conv2d(512, 512, kernel_size=(3, 3), stride=(1, 1), padding=(1, 1))\n",
       "    (27): ReLU(inplace=True)\n",
       "    (28): Conv2d(512, 512, kernel_size=(3, 3), stride=(1, 1), padding=(1, 1))\n",
       "    (29): ReLU(inplace=True)\n",
       "    (30): MaxPool2d(kernel_size=2, stride=2, padding=0, dilation=1, ceil_mode=False)\n",
       "  )\n",
       "  (avgpool): AdaptiveAvgPool2d(output_size=(7, 7))\n",
       "  (classifier): Sequential(\n",
       "    (0): Linear(in_features=25088, out_features=4096, bias=True)\n",
       "    (1): ReLU(inplace=True)\n",
       "    (2): Dropout(p=0.5, inplace=False)\n",
       "    (3): Dropout(p=0.6, inplace=False)\n",
       "    (4): ReLU(inplace=True)\n",
       "    (5): Dropout(p=0.6, inplace=False)\n",
       "    (6): Linear(in_features=4096, out_features=3, bias=True)\n",
       "  )\n",
       ")"
      ]
     },
     "execution_count": 159,
     "metadata": {},
     "output_type": "execute_result"
    }
   ],
   "source": [
    "device = torch.device('cuda' if torch.cuda.is_available() else 'cpu')\n",
    "model.to(device)"
   ]
  },
  {
   "cell_type": "code",
   "execution_count": 160,
   "metadata": {},
   "outputs": [],
   "source": [
    "optimizer = optim.Adam(model.parameters(), lr=learning_rate)\n",
    "criterion = nn.CrossEntropyLoss()\n"
   ]
  },
  {
   "cell_type": "code",
   "execution_count": 161,
   "metadata": {},
   "outputs": [],
   "source": [
    "# Training loop\n",
    "def train_model(model, train_loader, valid_loader, criterion, optimizer, epochs=EPOCHS):\n",
    "    best_acc = 0.0\n",
    "    print(\"Starting training...\")\n",
    "\n",
    "    for epoch in range(epochs):\n",
    "        model.train()\n",
    "        running_loss = 0.0\n",
    "        correct = 0\n",
    "        total = 0\n",
    "\n",
    "        for inputs, labels in train_loader:\n",
    "            inputs, labels = inputs.to(device), labels.to(device)\n",
    "            optimizer.zero_grad()\n",
    "\n",
    "            outputs = model(inputs)\n",
    "            loss = criterion(outputs, labels)\n",
    "            loss.backward()\n",
    "            optimizer.step()\n",
    "\n",
    "            running_loss += loss.item()\n",
    "            _, predicted = torch.max(outputs.data, 1)\n",
    "            total += labels.size(0)\n",
    "            correct += (predicted == labels).sum().item()\n",
    "\n",
    "        train_loss = running_loss / len(train_loader)\n",
    "        train_acc = correct / total\n",
    "\n",
    "        model.eval()\n",
    "        val_loss = 0.0\n",
    "        correct = 0\n",
    "        total = 0\n",
    "\n",
    "        with torch.no_grad():\n",
    "            for inputs, labels in valid_loader:\n",
    "                inputs, labels = inputs.to(device), labels.to(device)\n",
    "\n",
    "                outputs = model(inputs)\n",
    "                loss = criterion(outputs, labels)\n",
    "\n",
    "                val_loss += loss.item()\n",
    "                _, predicted = torch.max(outputs.data, 1)\n",
    "                total += labels.size(0)\n",
    "                correct += (predicted == labels).sum().item()\n",
    "\n",
    "        val_loss = val_loss / len(valid_loader)\n",
    "        val_acc = correct / total\n",
    "\n",
    "        print(f\"Epoch [{epoch+1}/{epochs}], Train Loss: {train_loss:.4f}, Train Acc: {train_acc:.4f}, \"\n",
    "              f\"Val Loss: {val_loss:.4f}, Val Acc: {val_acc:.4f}\", flush=True)\n",
    "\n",
    "        if val_acc > best_acc:\n",
    "            best_acc = val_acc\n",
    "            torch.save(model.state_dict(), 'VGG16_model.pth')\n",
    "\n",
    "    print(\"Training complete!\")"
   ]
  },
  {
   "cell_type": "code",
   "execution_count": 162,
   "metadata": {},
   "outputs": [
    {
     "name": "stdout",
     "output_type": "stream",
     "text": [
      "Starting training...\n",
      "Epoch [1/50], Train Loss: 1.7488, Train Acc: 0.3223, Val Loss: 1.0257, Val Acc: 0.4839\n",
      "Epoch [2/50], Train Loss: 1.5744, Train Acc: 0.3857, Val Loss: 1.0075, Val Acc: 0.5392\n",
      "Epoch [3/50], Train Loss: 1.4237, Train Acc: 0.4094, Val Loss: 0.9782, Val Acc: 0.5668\n",
      "Epoch [4/50], Train Loss: 1.2763, Train Acc: 0.4434, Val Loss: 0.9508, Val Acc: 0.5668\n",
      "Epoch [5/50], Train Loss: 1.2379, Train Acc: 0.4643, Val Loss: 0.8911, Val Acc: 0.6221\n",
      "Epoch [6/50], Train Loss: 1.1923, Train Acc: 0.4808, Val Loss: 0.8908, Val Acc: 0.6221\n",
      "Epoch [7/50], Train Loss: 1.1379, Train Acc: 0.5102, Val Loss: 0.8600, Val Acc: 0.6313\n",
      "Epoch [8/50], Train Loss: 1.1346, Train Acc: 0.5305, Val Loss: 0.8387, Val Acc: 0.6452\n",
      "Epoch [9/50], Train Loss: 1.0496, Train Acc: 0.5660, Val Loss: 0.8089, Val Acc: 0.6636\n",
      "Epoch [10/50], Train Loss: 0.9614, Train Acc: 0.5878, Val Loss: 0.8043, Val Acc: 0.6452\n",
      "Epoch [11/50], Train Loss: 0.9739, Train Acc: 0.5831, Val Loss: 0.8145, Val Acc: 0.6636\n",
      "Epoch [12/50], Train Loss: 0.9254, Train Acc: 0.5977, Val Loss: 0.7762, Val Acc: 0.6544\n",
      "Epoch [13/50], Train Loss: 0.9281, Train Acc: 0.5930, Val Loss: 0.7862, Val Acc: 0.6820\n",
      "Epoch [14/50], Train Loss: 0.8583, Train Acc: 0.6252, Val Loss: 0.7821, Val Acc: 0.6636\n",
      "Epoch [15/50], Train Loss: 0.8844, Train Acc: 0.6190, Val Loss: 0.7669, Val Acc: 0.6682\n",
      "Epoch [16/50], Train Loss: 0.8704, Train Acc: 0.6323, Val Loss: 0.7584, Val Acc: 0.6728\n",
      "Epoch [17/50], Train Loss: 0.9166, Train Acc: 0.6242, Val Loss: 0.7443, Val Acc: 0.6682\n",
      "Epoch [18/50], Train Loss: 0.8312, Train Acc: 0.6252, Val Loss: 0.7619, Val Acc: 0.6682\n",
      "Epoch [19/50], Train Loss: 0.8622, Train Acc: 0.6413, Val Loss: 0.7542, Val Acc: 0.6728\n",
      "Epoch [20/50], Train Loss: 0.8058, Train Acc: 0.6522, Val Loss: 0.7424, Val Acc: 0.6636\n",
      "Epoch [21/50], Train Loss: 0.8191, Train Acc: 0.6488, Val Loss: 0.7339, Val Acc: 0.6728\n",
      "Epoch [22/50], Train Loss: 0.8472, Train Acc: 0.6503, Val Loss: 0.7368, Val Acc: 0.6682\n",
      "Epoch [23/50], Train Loss: 0.7959, Train Acc: 0.6635, Val Loss: 0.7313, Val Acc: 0.6728\n",
      "Epoch [24/50], Train Loss: 0.7621, Train Acc: 0.6744, Val Loss: 0.7200, Val Acc: 0.6774\n",
      "Epoch [25/50], Train Loss: 0.7673, Train Acc: 0.6739, Val Loss: 0.7102, Val Acc: 0.7005\n",
      "Epoch [26/50], Train Loss: 0.7609, Train Acc: 0.6782, Val Loss: 0.7201, Val Acc: 0.6774\n",
      "Epoch [27/50], Train Loss: 0.7804, Train Acc: 0.6796, Val Loss: 0.7207, Val Acc: 0.6820\n",
      "Epoch [28/50], Train Loss: 0.7552, Train Acc: 0.6711, Val Loss: 0.7343, Val Acc: 0.6820\n",
      "Epoch [29/50], Train Loss: 0.8400, Train Acc: 0.6697, Val Loss: 0.7157, Val Acc: 0.6866\n",
      "Epoch [30/50], Train Loss: 0.7341, Train Acc: 0.6829, Val Loss: 0.7185, Val Acc: 0.6866\n",
      "Epoch [31/50], Train Loss: 0.7319, Train Acc: 0.6929, Val Loss: 0.7077, Val Acc: 0.6912\n",
      "Epoch [32/50], Train Loss: 0.7144, Train Acc: 0.6881, Val Loss: 0.7062, Val Acc: 0.6820\n",
      "Epoch [33/50], Train Loss: 0.7359, Train Acc: 0.6848, Val Loss: 0.6918, Val Acc: 0.6959\n",
      "Epoch [34/50], Train Loss: 0.7047, Train Acc: 0.7042, Val Loss: 0.6963, Val Acc: 0.6959\n",
      "Epoch [35/50], Train Loss: 0.6829, Train Acc: 0.7028, Val Loss: 0.7009, Val Acc: 0.6866\n",
      "Epoch [36/50], Train Loss: 0.7538, Train Acc: 0.6966, Val Loss: 0.6960, Val Acc: 0.6866\n",
      "Epoch [37/50], Train Loss: 0.7227, Train Acc: 0.7028, Val Loss: 0.6937, Val Acc: 0.6866\n",
      "Epoch [38/50], Train Loss: 0.7093, Train Acc: 0.7023, Val Loss: 0.6739, Val Acc: 0.7097\n",
      "Epoch [39/50], Train Loss: 0.6865, Train Acc: 0.7018, Val Loss: 0.6706, Val Acc: 0.7051\n",
      "Epoch [40/50], Train Loss: 0.7389, Train Acc: 0.6895, Val Loss: 0.6773, Val Acc: 0.7143\n",
      "Epoch [41/50], Train Loss: 0.6877, Train Acc: 0.7061, Val Loss: 0.6657, Val Acc: 0.7097\n",
      "Epoch [42/50], Train Loss: 0.7218, Train Acc: 0.6929, Val Loss: 0.6562, Val Acc: 0.7189\n",
      "Epoch [43/50], Train Loss: 0.7538, Train Acc: 0.7009, Val Loss: 0.6583, Val Acc: 0.7235\n",
      "Epoch [44/50], Train Loss: 0.7070, Train Acc: 0.7033, Val Loss: 0.6572, Val Acc: 0.7235\n",
      "Epoch [45/50], Train Loss: 0.7400, Train Acc: 0.7118, Val Loss: 0.6484, Val Acc: 0.7189\n",
      "Epoch [46/50], Train Loss: 0.6777, Train Acc: 0.7113, Val Loss: 0.6427, Val Acc: 0.7373\n",
      "Epoch [47/50], Train Loss: 0.7026, Train Acc: 0.7061, Val Loss: 0.6482, Val Acc: 0.7281\n",
      "Epoch [48/50], Train Loss: 0.6875, Train Acc: 0.7156, Val Loss: 0.6439, Val Acc: 0.7419\n",
      "Epoch [49/50], Train Loss: 0.6646, Train Acc: 0.7175, Val Loss: 0.6444, Val Acc: 0.7373\n",
      "Epoch [50/50], Train Loss: 0.6575, Train Acc: 0.7151, Val Loss: 0.6472, Val Acc: 0.7373\n",
      "Training complete!\n"
     ]
    }
   ],
   "source": [
    "# training\n",
    "train_model(model, train_loader, valid_loader, criterion, optimizer)"
   ]
  },
  {
   "cell_type": "code",
   "execution_count": 163,
   "metadata": {},
   "outputs": [],
   "source": [
    "# Model evaluation function\n",
    "def evaluate_model(model, test_loader):\n",
    "    model.eval()\n",
    "    all_preds = []\n",
    "    all_labels = []\n",
    "\n",
    "    with torch.no_grad():\n",
    "        for inputs, labels in test_loader:\n",
    "            inputs, labels = inputs.to(device), labels.to(device)\n",
    "            outputs = model(inputs)\n",
    "            _, preds = torch.max(outputs, 1)\n",
    "\n",
    "            all_preds.extend(preds.cpu().numpy())\n",
    "            all_labels.extend(labels.cpu().numpy())\n",
    "\n",
    "    return np.array(all_preds), np.array(all_labels)"
   ]
  },
  {
   "cell_type": "code",
   "execution_count": 164,
   "metadata": {},
   "outputs": [
    {
     "name": "stdout",
     "output_type": "stream",
     "text": [
      "              precision    recall  f1-score   support\n",
      "\n",
      "         dry       0.67      0.81      0.73        27\n",
      "        acne       0.81      0.76      0.79        51\n",
      "         oil       0.77      0.71      0.74        42\n",
      "\n",
      "    accuracy                           0.76       120\n",
      "   macro avg       0.75      0.76      0.75       120\n",
      "weighted avg       0.76      0.76      0.76       120\n",
      "\n"
     ]
    }
   ],
   "source": [
    "# Evaluation model\n",
    "preds, labels = evaluate_model(model, test_loader)\n",
    "print(classification_report(labels, preds, target_names=categories))"
   ]
  },
  {
   "cell_type": "code",
   "execution_count": 165,
   "metadata": {},
   "outputs": [],
   "source": [
    "# classification report and confusion matrix\n",
    "cm = confusion_matrix(labels, preds)"
   ]
  },
  {
   "cell_type": "code",
   "execution_count": 166,
   "metadata": {},
   "outputs": [
    {
     "data": {
      "image/png": "[encoded data removed]",
      "text/plain": [
       "<Figure size 800x600 with 2 Axes>"
      ]
     },
     "metadata": {},
     "output_type": "display_data"
    }
   ],
   "source": [
    "# Plot confusion matrix\n",
    "def plot_confusion_matrix(cm, classes, normalize=False, title='Confusion Matrix', cmap=plt.cm.Blues):\n",
    "    plt.imshow(cm, interpolation='nearest', cmap=cmap)\n",
    "    plt.title(title)\n",
    "    plt.colorbar()\n",
    "    tick_marks = np.arange(len(classes))\n",
    "    plt.xticks(tick_marks, classes, rotation=45)\n",
    "    plt.yticks(tick_marks, classes)\n",
    "\n",
    "    if normalize:\n",
    "        cm = cm.astype('float') / cm.sum(axis=1)[:, np.newaxis]\n",
    "\n",
    "    thresh = cm.max() / 2.\n",
    "    for i, j in itertools.product(range(cm.shape[0]), range(cm.shape[1])):\n",
    "        plt.text(j, i, f\"{cm[i, j]:.2f}\",\n",
    "                 horizontalalignment=\"center\",\n",
    "                 color=\"white\" if cm[i, j] > thresh else \"black\")\n",
    "\n",
    "    plt.tight_layout()\n",
    "    plt.ylabel('True label')\n",
    "    plt.xlabel('Predicted label')\n",
    "\n",
    "plt.figure(figsize=(8, 6))\n",
    "plot_confusion_matrix(cm, classes=categories, normalize=True)\n",
    "plt.show()"
   ]
  }
 ],
 "metadata": {
  "kernelspec": {
   "display_name": "Python 3",
   "language": "python",
   "name": "python3"
  },
  "language_info": {
   "codemirror_mode": {
    "name": "ipython",
    "version": 3
   },
   "file_extension": ".py",
   "mimetype": "text/x-python",
   "name": "python",
   "nbconvert_exporter": "python",
   "pygments_lexer": "ipython3",
   "version": "3.9.6"
  }
 },
 "nbformat": 4,
 "nbformat_minor": 2
}
